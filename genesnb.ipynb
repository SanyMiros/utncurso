{
 "cells": [
  {
   "cell_type": "code",
   "execution_count": 3,
   "metadata": {},
   "outputs": [
    {
     "name": "stdout",
     "output_type": "stream",
     "text": [
      "holahola\n"
     ]
    }
   ],
   "source": [
    "import genes\n",
    "res1 = genes.descargar(\"hola\")\n",
    "print(res1)\n"
   ]
  },
  {
   "cell_type": "code",
   "execution_count": null,
   "metadata": {},
   "outputs": [],
   "source": [
    "file1 = open(\"one.txt\", \"w\")\n",
    "\n",
    "file2 = open(\"two.txt\", \"w\")\n",
    "\n",
    "file3 = open(\"three.txt\", \"w\")\n",
    "\n",
    "accs = ['ab56', 'bh84', 'hv76', 'ay93', 'ap97', 'bd72']\n",
    "\n",
    "for accession in accs:\n",
    "\n",
    "    if accession.startswith('a'):\n",
    "\n",
    "        file1.write(accession + \"\\n\")\n",
    "\n",
    "    elif accession.startswith('b'):\n",
    "\n",
    "        file2.write(accession + \"\\n\")\n",
    "\n",
    "    else:\n",
    "\n",
    "        file3.write(accession + \"\\n\")"
   ]
  },
  {
   "cell_type": "code",
   "execution_count": 2,
   "metadata": {},
   "outputs": [
    {
     "name": "stdout",
     "output_type": "stream",
     "text": [
      "8\n"
     ]
    }
   ],
   "source": [
    "res2 = genes.propiedades(res1)\n",
    "print(res2)"
   ]
  },
  {
   "cell_type": "code",
   "execution_count": 4,
   "metadata": {},
   "outputs": [
    {
     "ename": "AttributeError",
     "evalue": "module 'genes' has no attribute 'figura'",
     "output_type": "error",
     "traceback": [
      "\u001b[0;31m---------------------------------------------------------------------------\u001b[0m",
      "\u001b[0;31mAttributeError\u001b[0m                            Traceback (most recent call last)",
      "Cell \u001b[0;32mIn[4], line 1\u001b[0m\n\u001b[0;32m----> 1\u001b[0m res3 \u001b[39m=\u001b[39m genes\u001b[39m.\u001b[39;49mfigura(res2)\n\u001b[1;32m      2\u001b[0m \u001b[39mprint\u001b[39m(res3)\n",
      "\u001b[0;31mAttributeError\u001b[0m: module 'genes' has no attribute 'figura'"
     ]
    }
   ],
   "source": [
    "res3 = genes.figura(res2)\n",
    "print(res3)\n"
   ]
  },
  {
   "cell_type": "code",
   "execution_count": 7,
   "metadata": {},
   "outputs": [
    {
     "name": "stdout",
     "output_type": "stream",
     "text": [
      "Requirement already satisfied: biopython in /usr/local/python/3.10.4/lib/python3.10/site-packages (1.81)\n",
      "Requirement already satisfied: numpy in /home/codespace/.local/lib/python3.10/site-packages (from biopython) (1.24.2)\n"
     ]
    }
   ],
   "source": [
    "!pip install biopython "
   ]
  },
  {
   "cell_type": "code",
   "execution_count": 8,
   "metadata": {},
   "outputs": [],
   "source": [
    "from Bio import SeqIO"
   ]
  },
  {
   "cell_type": "code",
   "execution_count": 16,
   "metadata": {},
   "outputs": [
    {
     "data": {
      "text/plain": [
       "'>lcl|AB118156.1_cds_BAD11806.1_1 [gene=p53] [protein=P53] [protein_id=BAD11806.1] [location=<1..>184] [gbkey=CDS]\\nTACTCCCCTGCCCTCAACAAGATGTTTTGCCAACTGGCCAAGACCTGCCCTGTGCAGCTGTGGGTTGATT\\nCCACACCCCCGCCCGGCACCCGCGTCCGCGCCATGGCCATCTACAAGCAGTCACAGCACATGACGGAGGT\\nTGTGAGGCGCTGCCCCCACCATGAGCGCTGCTCAGATAGCGATG\\n\\n'"
      ]
     },
     "execution_count": 16,
     "metadata": {},
     "output_type": "execute_result"
    }
   ],
   "source": [
    "#abrir el archivo de NCBI\n",
    "with open(\"gen1_p53.txt\", \"r\") as gen1_p53:\n",
    "    gen11 = gen1_p53.read()\n",
    "gen11"
   ]
  },
  {
   "cell_type": "code",
   "execution_count": 17,
   "metadata": {},
   "outputs": [
    {
     "data": {
      "text/plain": [
       "'>lcl|KF981498.1_cds_AHY19012.1_1 [gene=TNF] [protein=TNF] [protein_id=AHY19012.1] [location=join(70..267,687..852,1018..1460)] [gbkey=CDS]\\nATGGATAAAACAATGAAAAATATTTCGATGTTTGTTCTTTTATTAGTTGTTGTCTGTTTAATAGCAGTTT\\nTGGCTTTAGTGTGGACAATGCCTGAAATACCTAAGACAGTTAAGACAGGTGAAATATGTTTACCAAGTGA\\nAATTGGTCCGCTCAAATGTGGATCAACTGCTGACTTATTACATGGTTATCTTGAACGGGAAATTGCCACA\\nAAGTATGATGGAGTAAAAAGACAAGATCAGGAGAAACAAGAGAATCATCTTAAGAAAGTCAGTGCCCGTT\\nTAATGAATATTTATGACAAGAGTTTCTGGGAAATGAAACCAGCTGCAAAACTCACTGGAAAGGAACAACC\\nAGATTTGCGAAAAACTGACAGCAATGCTGACATGGTACCAATAAGAGAGTGGCGTAACGGAAGAGAACTT\\nTATGATACAAAAGGGTTTATCAGGTATGGAATTAGATACAGAAATGGTCGACTAGTTGTTCCAGTAGACG\\nGCACATATTTTATTTACTCTAACATTGACTTTTTCGAGTCCTGCAATCCTTCATCTGGTTTACCAGATGT\\nCAAAGATATCAATAAACCAATTAAACACGGTATTTTTAAGTTCAATATTCTTGAAGGAGAGGAAGAGGAA\\nTTAAAAACAAATGTACAACCACATACTATCTCTACCAACCGATACTACAATTCATATAATAGCTATGTCT\\nCTTCACTGGCGGAACTAAAAGCTGGTGATGAACTTTCAGTTAAAGTAAGCAATATAACATACATAAGATA\\nCACACGAGACAATTATTTTGGAGTAAATCTGATATGA\\n\\n'"
      ]
     },
     "execution_count": 17,
     "metadata": {},
     "output_type": "execute_result"
    }
   ],
   "source": [
    "#abrir el archivo de NCBI\n",
    "with open(\"gen2_tnf.txt\", \"r\") as gen2_tnf:\n",
    "    gen11 = gen2_tnf.read()\n",
    "gen11"
   ]
  },
  {
   "cell_type": "code",
   "execution_count": 18,
   "metadata": {},
   "outputs": [
    {
     "ename": "NameError",
     "evalue": "name 'join' is not defined",
     "output_type": "error",
     "traceback": [
      "\u001b[0;31m---------------------------------------------------------------------------\u001b[0m",
      "\u001b[0;31mNameError\u001b[0m                                 Traceback (most recent call last)",
      "Cell \u001b[0;32mIn[18], line 5\u001b[0m\n\u001b[1;32m      3\u001b[0m \u001b[39mwith\u001b[39;00m \u001b[39mopen\u001b[39m(\u001b[39m\"\u001b[39m\u001b[39mgen1_p53.txt\u001b[39m\u001b[39m\"\u001b[39m, \u001b[39m\"\u001b[39m\u001b[39mr\u001b[39m\u001b[39m\"\u001b[39m) \u001b[39mas\u001b[39;00m gen1_p53:\n\u001b[1;32m      4\u001b[0m     gen11 \u001b[39m=\u001b[39m gen1_p53\u001b[39m.\u001b[39mread()\n\u001b[0;32m----> 5\u001b[0m     gen12 \u001b[39m=\u001b[39m \u001b[39m\"\u001b[39m\u001b[39m,\u001b[39m\u001b[39m\"\u001b[39m,join(gen11\u001b[39m.\u001b[39msplit(\u001b[39m\"\u001b[39m\u001b[39m\\n\u001b[39;00m\u001b[39m\"\u001b[39m))\u001b[39m.\u001b[39msplit(\u001b[39m\"\u001b[39m\u001b[39m,\u001b[39m\u001b[39m\"\u001b[39m)\n\u001b[1;32m      7\u001b[0m gen12\n",
      "\u001b[0;31mNameError\u001b[0m: name 'join' is not defined"
     ]
    }
   ],
   "source": [
    "#deseo separar y generar un listado \n",
    "\n",
    "with open(\"gen1_p53.txt\", \"r\") as gen1_p53:\n",
    "    gen11 = gen1_p53.read()\n",
    "    gen12 = \",\",join(gen11.split(\"\\n\")).split(\",\")\n",
    "    \n",
    "gen12"
   ]
  },
  {
   "cell_type": "code",
   "execution_count": null,
   "metadata": {},
   "outputs": [],
   "source": [
    "#Varias secuencias de NCBI\n",
    "from Bio import Entrez\n",
    "from Bio import SeqIO\n",
    "Entrez.email = \"sany.ortega@gmail.com\" \n",
    "\n",
    "with Entrez.efetch( db=\"nucleotide\", rettype=\"fasta\", retmode=\"text\", id= gen12) as handle: \n",
    "    gencoati = SeqIO.parse(handle, \"fasta\")\n",
    "\n",
    "algo = open (\"data/gen1.fasta\", \"r+\") "
   ]
  },
  {
   "cell_type": "code",
   "execution_count": null,
   "metadata": {},
   "outputs": [],
   "source": [
    "#proceso de guardado\n",
    "colocar un nombre = SeqIO.parse\n",
    "SeqIO.write(seq_record, \"data/gen1_p53.fasta\", \"fasta\")\n",
    "  return (seq)\n",
    "  seqs = [descargar(x) for x in [acc1,acc2,acc3]]"
   ]
  }
 ],
 "metadata": {
  "kernelspec": {
   "display_name": "Python 3",
   "language": "python",
   "name": "python3"
  },
  "language_info": {
   "codemirror_mode": {
    "name": "ipython",
    "version": 3
   },
   "file_extension": ".py",
   "mimetype": "text/x-python",
   "name": "python",
   "nbconvert_exporter": "python",
   "pygments_lexer": "ipython3",
   "version": "3.10.4"
  },
  "orig_nbformat": 4
 },
 "nbformat": 4,
 "nbformat_minor": 2
}
